{
 "cells": [
  {
   "cell_type": "markdown",
   "id": "a41f3622",
   "metadata": {},
   "source": [
    "# Ejercicios de probabilidad"
   ]
  },
  {
   "cell_type": "code",
   "execution_count": 10,
   "id": "46f3026f",
   "metadata": {},
   "outputs": [],
   "source": [
    "import random\n",
    "import numpy as np"
   ]
  },
  {
   "cell_type": "markdown",
   "id": "a6bdbd89",
   "metadata": {},
   "source": [
    "## Ejercicio 1 \n",
    "\n",
    "Dos dados se lanzan una vez y se observa el total obtenido. Usa una simulación para encontrar la probabilidad estimada de que la puntuación sea mayor a 7 o un número par. Una simulación es una repetición del mismo experimento multiples veces para observar su comportamiento:\n",
    "\n",
    "- Ejecuta el experimento 1000 veces (lanza 2 dados 1000 veces, y suma el número de ambos dados).\n",
    "- Lleva una cuenta de los números y las veces que la suma fue mayor a 7 o un número par.\n",
    "- Divide el número del paso 2 entre el número de iteraciones(1000)."
   ]
  },
  {
   "cell_type": "code",
   "execution_count": 9,
   "id": "8939d892",
   "metadata": {},
   "outputs": [
    {
     "name": "stdout",
     "output_type": "stream",
     "text": [
      "[ 2  6 10  5  5  7  6  4  5 10  4  7  9  5  3  8  6 11  7  8  9  5  6  6\n",
      "  3  5  4  9  8  5  4  6  4 10  5  6  6  9  2  5  4  5  9  8  5  9  9  4\n",
      " 11  3  8  4  9  6  7  3 10  9  7  7  6  7  5  5  9  8  6  7  5  5  7 10\n",
      " 10  6  4 10  3  6 11  5 10  9  6 12  7  9  5  8  9  6  8  6  7 10 10  5\n",
      "  9  9  4  4  7  5  6  4 11  7  9  9  3  3  6  7  9  8  8  6  4  8 10  6\n",
      "  2  7  6  9  8  5  9  6  5  6  8  7  4  6  9  7  8  7  4  4  8  8  9  5\n",
      "  2 10  7 10  3  7  9  4  6  5  5  3  4  9  5  5  9  4  8  7  6  7  8  6\n",
      "  8  6  7  4  8  4 10 10  8  8  7 10 10  8  4  5  6  7 12  8  2 10  5  5\n",
      "  6 10  3  9 12 11  9  7  6  9 10  5  8 10 11  5  6  5 10  4 10  5  8  9\n",
      " 10  5  7  7  6  5  8  8  8  5 10  5  9  7 10  5 12  8  9  7  5  6  6  5\n",
      "  9  5  5  2  5  6  6 11  5  5  4 11  4  7  6  9  7  7  9  8  9 10  9  9\n",
      "  4  6 10  8  7  8  8  9  8  4  6  4  4  7  2 11  7  4  4  4  7 12  5  8\n",
      "  4 11  2  4  7  5  9  7 10  6  3 11  5  5  8  7 11  6  8  7  6  8 11  4\n",
      "  7  5  5 11  9  8  5  3  5 11  5  5  5  7  8  7  5  8  8 12  4  4  5  6\n",
      "  8  4  8  9 11  8  8  7  6  8 11  4 11  6  5  5  6  4  5  7 10  6 11  8\n",
      "  6  3  4  7  6  7  7  5 10  4  8  5  4 10  8  5 11  3  8  3 12  6  5  8\n",
      "  9  9  7  4  8  5  6  6  3  5  6  5  6  6  2  6  7 10  3  7  7  8  8  6\n",
      " 10  9  7  7  8 12  9 10 11  6  6  9  7  3  4  9  9  8  6 10  9  6  9  7\n",
      "  9  7  3  8  5  9  8  3  7  7  5  8  7  3  4  5  8  4  7  6  3  7  4  9\n",
      "  8  4  5 10  4  7 12  3  3  9  9  8  6  8  8  4  8  8  4  9  7  6  6  7\n",
      " 10 12  6  3 11  3  8  4  6  3  7 11  8  3  4  7  4  3  8  8  3  9  9  5\n",
      "  7  6  5  6 10  4  9  5  6  8  9  9  9  9 10  8  3  7  8  6  9 10  7  9\n",
      "  9  6  4  5  9  5  9  6 11  7  4  7  8  8  7  8 10  9  5 11  7  7  8 11\n",
      "  5  9  4  6  6  6  6  5  7  7  7  2  7  9  8  8  2  7  3  3  7  6 10  7\n",
      " 11  2 11  9  8  9  7 11  9  7  6  6  6  4  6  4  7  9 10  7  9  5  3  7\n",
      "  9  7  8  8  9  8  3 10  6  6  9 11  5  8  4 11  9  7  7  4  2  8  4 10\n",
      "  7  9  6  9  4  5  8 11 12  4 10  5  3  9  5  4  7  8  7  7 10 10  5  6\n",
      "  7 11  6  7  7  6  8 11  9  2  8 10  8  5  6 12  6 10  7  7  8  8  7  9\n",
      " 11  3 10  7  8  4  6  5  7  8  5  8  4  9  2  8  8  6  4  7  4 10  7  5\n",
      " 10  6  7  8 11  5  4  3 10  5  8  6 11  6  6  4  4  6  4  5 11  5  8  9\n",
      "  8  9  5  9  7  5  5  9  7  4  6  9 12  6  8  8  6  9  5  5  8  8  8  9\n",
      "  8  5  4 10  3 10  7  6  8  6  4 10  8  7 10  9  7  8  8 10 11  5  5  8\n",
      " 11 12  6  6  8  8  6  8 10  5  9  5  6  4  3  9 11  6  5  8  6  9  8  8\n",
      "  6  7  8  7  4  3 12  5  3  4  2  8 11 11 11  3  8  4  7  9  4 10 11  4\n",
      " 11  3  4  6  7  2 11  5  7  5  9  4  6 10  6  5  6  5  5  7  5  7  9  6\n",
      "  4 11  5  9  8  5  3  8 10  8  5  8  7  7  4  8 11  5  5 11  7  9 10  2\n",
      "  7  9  7  4  9  7  5  3  7  6 10  6  7  7  7  7  6  7  3  5  9  4 10  7\n",
      "  7  5  8  3  9 10  5  8  5  6  8  6  7  9  6  9  6  6  3  7  5  9  8  7\n",
      "  8  5  7  8  9  6  4  7  9 11  8 11  6  6 10  9 11  8  9  9  6  8  7  6\n",
      "  7  8  9  6  8  8  9  7  8  8  7  7 10  5  4  9 10  9  5  6  7 12  9  5\n",
      "  7  8  9  9  8  8  7  8 10  8  9  9 10  3 12  3  7  8  7  7  7  6  2 10\n",
      "  9  8  2  5 10 10  5  2 11  5  8  5  5  5  6  2]\n",
      "Probabilidad de veces que los resultados hayan sido mayor par o mayor o igual que 7: 81.6 %\n",
      "División de veces:\n",
      "0.408\n"
     ]
    }
   ],
   "source": [
    "# RESULTADO DADOS:\n",
    "\n",
    "num_lanzamientos = 1000\n",
    "\n",
    "lanzamiento_dado1 = np.random.randint(1, 7, num_lanzamientos)\n",
    "lanzamiento_dado2 = np.random.randint(1, 7, num_lanzamientos)\n",
    "\n",
    "lanzamientos = (lanzamiento_dado1 + lanzamiento_dado2)\n",
    "print(lanzamientos)\n",
    "\n",
    "# CONTADOR DE CONDICIONES:\n",
    "\n",
    "contador = np.sum((lanzamientos >= 7)| (lanzamientos % 2 == 0))\n",
    "probabilidad = contador/num_lanzamientos\n",
    "porcentaje = np.round(probabilidad * 100, 2)\n",
    "\n",
    "print(f\"Probabilidad de veces que los resultados hayan sido mayor par o mayor o igual que 7: {porcentaje} %\")\n",
    "\n",
    "# DIVIDIR:\n",
    "\n",
    "total = probabilidad\n",
    "print(\"División de veces:\")\n",
    "print(total/2)\n"
   ]
  },
  {
   "cell_type": "markdown",
   "id": "55732bca",
   "metadata": {},
   "source": [
    "## Ejercicio 2\n",
    "\n",
    "Una caja contiene 10 bolas blancas, 20 bolas rojas y 30 bolas verdes. Si tomamos 5 bolas de la caja reemplazándolas (tomando una bola, anotando el color y luego regresandola a la caja). Queremos saber la probabilidad de:\n",
    "\n",
    "1. Tomar 3 blancas y 2 rojas.\n",
    "2. Todas del mismo color.\n",
    "\n",
    "Ejecuta el experimento 1000 veces y calcula las probabilidades mencionadas."
   ]
  },
  {
   "cell_type": "code",
   "execution_count": 15,
   "id": "23244d20",
   "metadata": {},
   "outputs": [
    {
     "name": "stdout",
     "output_type": "stream",
     "text": [
      "{0: 'White', 1: 'White', 2: 'White', 3: 'White', 4: 'White', 5: 'White', 6: 'White', 7: 'White', 8: 'White', 9: 'White', 10: 'Red', 11: 'Red', 12: 'Red', 13: 'Red', 14: 'Red', 15: 'Red', 16: 'Red', 17: 'Red', 18: 'Red', 19: 'Red', 20: 'Red', 21: 'Red', 22: 'Red', 23: 'Red', 24: 'Red', 25: 'Red', 26: 'Red', 27: 'Red', 28: 'Red', 29: 'Red', 30: 'Green', 31: 'Green', 32: 'Green', 33: 'Green', 34: 'Green', 35: 'Green', 36: 'Green', 37: 'Green', 38: 'Green', 39: 'Green', 40: 'Green', 41: 'Green', 42: 'Green', 43: 'Green', 44: 'Green', 45: 'Green', 46: 'Green', 47: 'Green', 48: 'Green', 49: 'Green', 50: 'Green', 51: 'Green', 52: 'Green', 53: 'Green', 54: 'Green', 55: 'Green', 56: 'Green', 57: 'Green', 58: 'Green', 59: 'Green'}\n",
      "Probabilidad de obtener 3 bolas blancas y 2 bolas rojas: 0.5%\n",
      "Probabilidad de obtener las bolas del mismo color: 4.7%\n"
     ]
    }
   ],
   "source": [
    "ball_box = {}\n",
    "\n",
    "# Crea la cajas con las bolas\n",
    "for i in range(60):\n",
    "    if i < 10:\n",
    "        ball_box[i] = \"White\"\n",
    "    elif (i > 9) and (i < 30):\n",
    "        ball_box[i] = \"Red\"\n",
    "    else:\n",
    "        ball_box[i] = \"Green\"\n",
    "\n",
    "print(ball_box)\n",
    "            \n",
    "# DESCRIPCIÓN DEL INTERIOR DE LA CAJA:\n",
    "\n",
    "ball_box = [\"White\"] * 10 + [\"Red\"] * 20 + [\"Green\"] * 30\n",
    "\n",
    "num_simulations = 1000\n",
    "\n",
    "# CONTADOR SIMULACIONES:\n",
    "\n",
    "count_white_red = 0\n",
    "count_all_same_color = 0\n",
    "\n",
    "# SIMULACIÓN DE EXTRACCIÓN DE COLOR:\n",
    "for _ in range(num_simulations):\n",
    "    sample = random.choices(ball_box, k=5) # Extracción de 5 bolas con reemplazo\n",
    "\n",
    "    # Verificar si hay 3 bolas blancas y 2 rojas:\n",
    "    if sample.count(\"White\") == 3 and sample.count(\"Red\") == 2:\n",
    "        count_white_red += 1\n",
    "\n",
    "    # Verificar si son las 3 bolas del mismo color:\n",
    "    if len(set(sample)) == 1:\n",
    "        count_all_same_color += 1\n",
    "\n",
    "# CALCULO DE PROBABILIDADES:\n",
    "\n",
    "prob_white_red = np.round((count_white_red / num_simulations) * 100, 2)\n",
    "prob_all_same_color = np.round((count_all_same_color / num_simulations) * 100, 2)\n",
    "\n",
    "# RESULTADOS:\n",
    "\n",
    "print(f\"Probabilidad de obtener 3 bolas blancas y 2 bolas rojas: {prob_white_red}%\")\n",
    "print(f\"Probabilidad de obtener las bolas del mismo color: {prob_all_same_color}%\")"
   ]
  }
 ],
 "metadata": {
  "kernelspec": {
   "display_name": "Python 3",
   "language": "python",
   "name": "python3"
  },
  "language_info": {
   "codemirror_mode": {
    "name": "ipython",
    "version": 3
   },
   "file_extension": ".py",
   "mimetype": "text/x-python",
   "name": "python",
   "nbconvert_exporter": "python",
   "pygments_lexer": "ipython3",
   "version": "3.11.4"
  }
 },
 "nbformat": 4,
 "nbformat_minor": 5
}
